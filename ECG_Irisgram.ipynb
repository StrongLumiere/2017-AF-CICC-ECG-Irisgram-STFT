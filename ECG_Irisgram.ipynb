{
 "cells": [
  {
   "cell_type": "code",
   "execution_count": 1,
   "metadata": {},
   "outputs": [
    {
     "name": "stdout",
     "output_type": "stream",
     "text": [
      "Requirement already satisfied: numpy in c:\\users\\kang\\anaconda3\\lib\\site-packages (1.20.3)\n"
     ]
    },
    {
     "name": "stderr",
     "output_type": "stream",
     "text": [
      "\n",
      "[notice] A new release of pip is available: 23.1.2 -> 23.3.1\n",
      "[notice] To update, run: python.exe -m pip install --upgrade pip\n"
     ]
    },
    {
     "name": "stdout",
     "output_type": "stream",
     "text": [
      "Requirement already satisfied: matplotlib in c:\\users\\kang\\anaconda3\\lib\\site-packages (3.4.3)\n",
      "Requirement already satisfied: cycler>=0.10 in c:\\users\\kang\\anaconda3\\lib\\site-packages (from matplotlib) (0.10.0)\n",
      "Requirement already satisfied: kiwisolver>=1.0.1 in c:\\users\\kang\\anaconda3\\lib\\site-packages (from matplotlib) (1.3.1)\n",
      "Requirement already satisfied: numpy>=1.16 in c:\\users\\kang\\anaconda3\\lib\\site-packages (from matplotlib) (1.20.3)\n",
      "Requirement already satisfied: pillow>=6.2.0 in c:\\users\\kang\\anaconda3\\lib\\site-packages (from matplotlib) (8.4.0)\n",
      "Requirement already satisfied: pyparsing>=2.2.1 in c:\\users\\kang\\anaconda3\\lib\\site-packages (from matplotlib) (3.0.4)\n",
      "Requirement already satisfied: python-dateutil>=2.7 in c:\\users\\kang\\appdata\\roaming\\python\\python39\\site-packages (from matplotlib) (2.8.2)\n",
      "Requirement already satisfied: six in c:\\users\\kang\\appdata\\roaming\\python\\python39\\site-packages (from cycler>=0.10->matplotlib) (1.16.0)\n"
     ]
    },
    {
     "name": "stderr",
     "output_type": "stream",
     "text": [
      "\n",
      "[notice] A new release of pip is available: 23.1.2 -> 23.3.1\n",
      "[notice] To update, run: python.exe -m pip install --upgrade pip\n"
     ]
    },
    {
     "name": "stdout",
     "output_type": "stream",
     "text": [
      "Requirement already satisfied: wfdb in c:\\users\\kang\\anaconda3\\lib\\site-packages (4.1.1)\n",
      "Requirement already satisfied: SoundFile>=0.10.0 in c:\\users\\kang\\anaconda3\\lib\\site-packages (from wfdb) (0.12.1)\n",
      "Requirement already satisfied: matplotlib>=3.2.2 in c:\\users\\kang\\anaconda3\\lib\\site-packages (from wfdb) (3.4.3)\n",
      "Requirement already satisfied: numpy>=1.10.1 in c:\\users\\kang\\anaconda3\\lib\\site-packages (from wfdb) (1.20.3)\n",
      "Requirement already satisfied: pandas>=1.3.0 in c:\\users\\kang\\anaconda3\\lib\\site-packages (from wfdb) (2.0.1)\n",
      "Requirement already satisfied: requests>=2.8.1 in c:\\users\\kang\\anaconda3\\lib\\site-packages (from wfdb) (2.26.0)\n",
      "Requirement already satisfied: scipy>=1.0.0 in c:\\users\\kang\\anaconda3\\lib\\site-packages (from wfdb) (1.7.1)\n",
      "Requirement already satisfied: cycler>=0.10 in c:\\users\\kang\\anaconda3\\lib\\site-packages (from matplotlib>=3.2.2->wfdb) (0.10.0)\n",
      "Requirement already satisfied: kiwisolver>=1.0.1 in c:\\users\\kang\\anaconda3\\lib\\site-packages (from matplotlib>=3.2.2->wfdb) (1.3.1)\n",
      "Requirement already satisfied: pillow>=6.2.0 in c:\\users\\kang\\anaconda3\\lib\\site-packages (from matplotlib>=3.2.2->wfdb) (8.4.0)\n",
      "Requirement already satisfied: pyparsing>=2.2.1 in c:\\users\\kang\\anaconda3\\lib\\site-packages (from matplotlib>=3.2.2->wfdb) (3.0.4)\n",
      "Requirement already satisfied: python-dateutil>=2.7 in c:\\users\\kang\\appdata\\roaming\\python\\python39\\site-packages (from matplotlib>=3.2.2->wfdb) (2.8.2)\n",
      "Requirement already satisfied: pytz>=2020.1 in c:\\users\\kang\\anaconda3\\lib\\site-packages (from pandas>=1.3.0->wfdb) (2021.3)\n",
      "Requirement already satisfied: tzdata>=2022.1 in c:\\users\\kang\\anaconda3\\lib\\site-packages (from pandas>=1.3.0->wfdb) (2023.3)\n",
      "Requirement already satisfied: urllib3<1.27,>=1.21.1 in c:\\users\\kang\\anaconda3\\lib\\site-packages (from requests>=2.8.1->wfdb) (1.26.7)\n",
      "Requirement already satisfied: certifi>=2017.4.17 in c:\\users\\kang\\anaconda3\\lib\\site-packages (from requests>=2.8.1->wfdb) (2021.10.8)\n",
      "Requirement already satisfied: charset-normalizer~=2.0.0 in c:\\users\\kang\\anaconda3\\lib\\site-packages (from requests>=2.8.1->wfdb) (2.0.4)\n",
      "Requirement already satisfied: idna<4,>=2.5 in c:\\users\\kang\\anaconda3\\lib\\site-packages (from requests>=2.8.1->wfdb) (3.2)\n",
      "Requirement already satisfied: cffi>=1.0 in c:\\users\\kang\\anaconda3\\lib\\site-packages (from SoundFile>=0.10.0->wfdb) (1.14.6)\n",
      "Requirement already satisfied: pycparser in c:\\users\\kang\\anaconda3\\lib\\site-packages (from cffi>=1.0->SoundFile>=0.10.0->wfdb) (2.20)\n",
      "Requirement already satisfied: six in c:\\users\\kang\\appdata\\roaming\\python\\python39\\site-packages (from cycler>=0.10->matplotlib>=3.2.2->wfdb) (1.16.0)\n"
     ]
    },
    {
     "name": "stderr",
     "output_type": "stream",
     "text": [
      "\n",
      "[notice] A new release of pip is available: 23.1.2 -> 23.3.1\n",
      "[notice] To update, run: python.exe -m pip install --upgrade pip\n"
     ]
    },
    {
     "name": "stdout",
     "output_type": "stream",
     "text": [
      "Requirement already satisfied: scipy in c:\\users\\kang\\anaconda3\\lib\\site-packages (1.7.1)\n",
      "Requirement already satisfied: numpy<1.23.0,>=1.16.5 in c:\\users\\kang\\anaconda3\\lib\\site-packages (from scipy) (1.20.3)\n"
     ]
    },
    {
     "name": "stderr",
     "output_type": "stream",
     "text": [
      "\n",
      "[notice] A new release of pip is available: 23.1.2 -> 23.3.1\n",
      "[notice] To update, run: python.exe -m pip install --upgrade pip\n"
     ]
    },
    {
     "name": "stdout",
     "output_type": "stream",
     "text": [
      "Requirement already satisfied: ipywidgets in c:\\users\\kang\\anaconda3\\lib\\site-packages (7.6.5)\n",
      "Requirement already satisfied: ipykernel>=4.5.1 in c:\\users\\kang\\appdata\\roaming\\python\\python39\\site-packages (from ipywidgets) (6.23.1)\n",
      "Requirement already satisfied: ipython-genutils~=0.2.0 in c:\\users\\kang\\anaconda3\\lib\\site-packages (from ipywidgets) (0.2.0)\n",
      "Requirement already satisfied: traitlets>=4.3.1 in c:\\users\\kang\\appdata\\roaming\\python\\python39\\site-packages (from ipywidgets) (5.9.0)\n",
      "Requirement already satisfied: nbformat>=4.2.0 in c:\\users\\kang\\anaconda3\\lib\\site-packages (from ipywidgets) (5.1.3)\n",
      "Requirement already satisfied: widgetsnbextension~=3.5.0 in c:\\users\\kang\\anaconda3\\lib\\site-packages (from ipywidgets) (3.5.1)\n",
      "Requirement already satisfied: ipython>=4.0.0 in c:\\users\\kang\\appdata\\roaming\\python\\python39\\site-packages (from ipywidgets) (8.13.2)\n",
      "Requirement already satisfied: jupyterlab-widgets>=1.0.0 in c:\\users\\kang\\anaconda3\\lib\\site-packages (from ipywidgets) (1.0.0)\n",
      "Requirement already satisfied: comm>=0.1.1 in c:\\users\\kang\\appdata\\roaming\\python\\python39\\site-packages (from ipykernel>=4.5.1->ipywidgets) (0.1.3)\n",
      "Requirement already satisfied: debugpy>=1.6.5 in c:\\users\\kang\\appdata\\roaming\\python\\python39\\site-packages (from ipykernel>=4.5.1->ipywidgets) (1.6.7)\n",
      "Requirement already satisfied: jupyter-client>=6.1.12 in c:\\users\\kang\\appdata\\roaming\\python\\python39\\site-packages (from ipykernel>=4.5.1->ipywidgets) (8.2.0)\n",
      "Requirement already satisfied: jupyter-core!=5.0.*,>=4.12 in c:\\users\\kang\\appdata\\roaming\\python\\python39\\site-packages (from ipykernel>=4.5.1->ipywidgets) (5.3.0)\n",
      "Requirement already satisfied: matplotlib-inline>=0.1 in c:\\users\\kang\\appdata\\roaming\\python\\python39\\site-packages (from ipykernel>=4.5.1->ipywidgets) (0.1.6)\n",
      "Requirement already satisfied: nest-asyncio in c:\\users\\kang\\appdata\\roaming\\python\\python39\\site-packages (from ipykernel>=4.5.1->ipywidgets) (1.5.6)\n",
      "Requirement already satisfied: packaging in c:\\users\\kang\\appdata\\roaming\\python\\python39\\site-packages (from ipykernel>=4.5.1->ipywidgets) (23.1)\n",
      "Requirement already satisfied: psutil in c:\\users\\kang\\appdata\\roaming\\python\\python39\\site-packages (from ipykernel>=4.5.1->ipywidgets) (5.9.5)\n",
      "Requirement already satisfied: pyzmq>=20 in c:\\users\\kang\\appdata\\roaming\\python\\python39\\site-packages (from ipykernel>=4.5.1->ipywidgets) (25.0.2)\n",
      "Requirement already satisfied: tornado>=6.1 in c:\\users\\kang\\appdata\\roaming\\python\\python39\\site-packages (from ipykernel>=4.5.1->ipywidgets) (6.3.2)\n",
      "Requirement already satisfied: backcall in c:\\users\\kang\\appdata\\roaming\\python\\python39\\site-packages (from ipython>=4.0.0->ipywidgets) (0.2.0)\n",
      "Requirement already satisfied: decorator in c:\\users\\kang\\appdata\\roaming\\python\\python39\\site-packages (from ipython>=4.0.0->ipywidgets) (5.1.1)\n",
      "Requirement already satisfied: jedi>=0.16 in c:\\users\\kang\\appdata\\roaming\\python\\python39\\site-packages (from ipython>=4.0.0->ipywidgets) (0.18.2)\n",
      "Requirement already satisfied: pickleshare in c:\\users\\kang\\appdata\\roaming\\python\\python39\\site-packages (from ipython>=4.0.0->ipywidgets) (0.7.5)\n",
      "Requirement already satisfied: prompt-toolkit!=3.0.37,<3.1.0,>=3.0.30 in c:\\users\\kang\\appdata\\roaming\\python\\python39\\site-packages (from ipython>=4.0.0->ipywidgets) (3.0.38)\n",
      "Requirement already satisfied: pygments>=2.4.0 in c:\\users\\kang\\appdata\\roaming\\python\\python39\\site-packages (from ipython>=4.0.0->ipywidgets) (2.15.1)\n",
      "Requirement already satisfied: stack-data in c:\\users\\kang\\appdata\\roaming\\python\\python39\\site-packages (from ipython>=4.0.0->ipywidgets) (0.6.2)\n",
      "Requirement already satisfied: typing-extensions in c:\\users\\kang\\appdata\\roaming\\python\\python39\\site-packages (from ipython>=4.0.0->ipywidgets) (4.5.0)\n",
      "Requirement already satisfied: colorama in c:\\users\\kang\\appdata\\roaming\\python\\python39\\site-packages (from ipython>=4.0.0->ipywidgets) (0.4.6)\n",
      "Requirement already satisfied: jsonschema!=2.5.0,>=2.4 in c:\\users\\kang\\anaconda3\\lib\\site-packages (from nbformat>=4.2.0->ipywidgets) (3.2.0)\n",
      "Requirement already satisfied: notebook>=4.4.1 in c:\\users\\kang\\anaconda3\\lib\\site-packages (from widgetsnbextension~=3.5.0->ipywidgets) (6.4.5)\n",
      "Requirement already satisfied: parso<0.9.0,>=0.8.0 in c:\\users\\kang\\appdata\\roaming\\python\\python39\\site-packages (from jedi>=0.16->ipython>=4.0.0->ipywidgets) (0.8.3)\n",
      "Requirement already satisfied: attrs>=17.4.0 in c:\\users\\kang\\anaconda3\\lib\\site-packages (from jsonschema!=2.5.0,>=2.4->nbformat>=4.2.0->ipywidgets) (21.2.0)\n",
      "Requirement already satisfied: pyrsistent>=0.14.0 in c:\\users\\kang\\anaconda3\\lib\\site-packages (from jsonschema!=2.5.0,>=2.4->nbformat>=4.2.0->ipywidgets) (0.18.0)\n",
      "Requirement already satisfied: setuptools in c:\\users\\kang\\anaconda3\\lib\\site-packages (from jsonschema!=2.5.0,>=2.4->nbformat>=4.2.0->ipywidgets) (58.0.4)\n",
      "Requirement already satisfied: six>=1.11.0 in c:\\users\\kang\\appdata\\roaming\\python\\python39\\site-packages (from jsonschema!=2.5.0,>=2.4->nbformat>=4.2.0->ipywidgets) (1.16.0)\n",
      "Requirement already satisfied: importlib-metadata>=4.8.3 in c:\\users\\kang\\appdata\\roaming\\python\\python39\\site-packages (from jupyter-client>=6.1.12->ipykernel>=4.5.1->ipywidgets) (6.6.0)\n",
      "Requirement already satisfied: python-dateutil>=2.8.2 in c:\\users\\kang\\appdata\\roaming\\python\\python39\\site-packages (from jupyter-client>=6.1.12->ipykernel>=4.5.1->ipywidgets) (2.8.2)\n",
      "Requirement already satisfied: platformdirs>=2.5 in c:\\users\\kang\\appdata\\roaming\\python\\python39\\site-packages (from jupyter-core!=5.0.*,>=4.12->ipykernel>=4.5.1->ipywidgets) (3.5.1)\n",
      "Requirement already satisfied: pywin32>=300 in c:\\users\\kang\\appdata\\roaming\\python\\python39\\site-packages (from jupyter-core!=5.0.*,>=4.12->ipykernel>=4.5.1->ipywidgets) (306)\n",
      "Requirement already satisfied: jinja2 in c:\\users\\kang\\anaconda3\\lib\\site-packages (from notebook>=4.4.1->widgetsnbextension~=3.5.0->ipywidgets) (2.11.3)\n",
      "Requirement already satisfied: argon2-cffi in c:\\users\\kang\\anaconda3\\lib\\site-packages (from notebook>=4.4.1->widgetsnbextension~=3.5.0->ipywidgets) (20.1.0)\n",
      "Requirement already satisfied: nbconvert in c:\\users\\kang\\anaconda3\\lib\\site-packages (from notebook>=4.4.1->widgetsnbextension~=3.5.0->ipywidgets) (6.1.0)\n",
      "Requirement already satisfied: Send2Trash>=1.5.0 in c:\\users\\kang\\anaconda3\\lib\\site-packages (from notebook>=4.4.1->widgetsnbextension~=3.5.0->ipywidgets) (1.8.0)\n",
      "Requirement already satisfied: terminado>=0.8.3 in c:\\users\\kang\\anaconda3\\lib\\site-packages (from notebook>=4.4.1->widgetsnbextension~=3.5.0->ipywidgets) (0.9.4)\n",
      "Requirement already satisfied: prometheus-client in c:\\users\\kang\\anaconda3\\lib\\site-packages (from notebook>=4.4.1->widgetsnbextension~=3.5.0->ipywidgets) (0.11.0)\n",
      "Requirement already satisfied: wcwidth in c:\\users\\kang\\appdata\\roaming\\python\\python39\\site-packages (from prompt-toolkit!=3.0.37,<3.1.0,>=3.0.30->ipython>=4.0.0->ipywidgets) (0.2.6)\n",
      "Requirement already satisfied: executing>=1.2.0 in c:\\users\\kang\\appdata\\roaming\\python\\python39\\site-packages (from stack-data->ipython>=4.0.0->ipywidgets) (1.2.0)\n",
      "Requirement already satisfied: asttokens>=2.1.0 in c:\\users\\kang\\appdata\\roaming\\python\\python39\\site-packages (from stack-data->ipython>=4.0.0->ipywidgets) (2.2.1)\n",
      "Requirement already satisfied: pure-eval in c:\\users\\kang\\appdata\\roaming\\python\\python39\\site-packages (from stack-data->ipython>=4.0.0->ipywidgets) (0.2.2)\n",
      "Requirement already satisfied: zipp>=0.5 in c:\\users\\kang\\appdata\\roaming\\python\\python39\\site-packages (from importlib-metadata>=4.8.3->jupyter-client>=6.1.12->ipykernel>=4.5.1->ipywidgets) (3.15.0)\n",
      "Requirement already satisfied: pywinpty>=0.5 in c:\\users\\kang\\anaconda3\\lib\\site-packages (from terminado>=0.8.3->notebook>=4.4.1->widgetsnbextension~=3.5.0->ipywidgets) (0.5.7)\n",
      "Requirement already satisfied: cffi>=1.0.0 in c:\\users\\kang\\anaconda3\\lib\\site-packages (from argon2-cffi->notebook>=4.4.1->widgetsnbextension~=3.5.0->ipywidgets) (1.14.6)\n",
      "Requirement already satisfied: MarkupSafe>=0.23 in c:\\users\\kang\\anaconda3\\lib\\site-packages (from jinja2->notebook>=4.4.1->widgetsnbextension~=3.5.0->ipywidgets) (1.1.1)\n",
      "Requirement already satisfied: mistune<2,>=0.8.1 in c:\\users\\kang\\anaconda3\\lib\\site-packages (from nbconvert->notebook>=4.4.1->widgetsnbextension~=3.5.0->ipywidgets) (0.8.4)\n",
      "Requirement already satisfied: jupyterlab-pygments in c:\\users\\kang\\anaconda3\\lib\\site-packages (from nbconvert->notebook>=4.4.1->widgetsnbextension~=3.5.0->ipywidgets) (0.1.2)\n",
      "Requirement already satisfied: entrypoints>=0.2.2 in c:\\users\\kang\\anaconda3\\lib\\site-packages (from nbconvert->notebook>=4.4.1->widgetsnbextension~=3.5.0->ipywidgets) (0.3)\n",
      "Requirement already satisfied: bleach in c:\\users\\kang\\anaconda3\\lib\\site-packages (from nbconvert->notebook>=4.4.1->widgetsnbextension~=3.5.0->ipywidgets) (4.0.0)\n",
      "Requirement already satisfied: pandocfilters>=1.4.1 in c:\\users\\kang\\anaconda3\\lib\\site-packages (from nbconvert->notebook>=4.4.1->widgetsnbextension~=3.5.0->ipywidgets) (1.4.3)\n",
      "Requirement already satisfied: testpath in c:\\users\\kang\\anaconda3\\lib\\site-packages (from nbconvert->notebook>=4.4.1->widgetsnbextension~=3.5.0->ipywidgets) (0.5.0)\n",
      "Requirement already satisfied: defusedxml in c:\\users\\kang\\anaconda3\\lib\\site-packages (from nbconvert->notebook>=4.4.1->widgetsnbextension~=3.5.0->ipywidgets) (0.7.1)\n",
      "Requirement already satisfied: nbclient<0.6.0,>=0.5.0 in c:\\users\\kang\\anaconda3\\lib\\site-packages (from nbconvert->notebook>=4.4.1->widgetsnbextension~=3.5.0->ipywidgets) (0.5.3)\n",
      "Requirement already satisfied: pycparser in c:\\users\\kang\\anaconda3\\lib\\site-packages (from cffi>=1.0.0->argon2-cffi->notebook>=4.4.1->widgetsnbextension~=3.5.0->ipywidgets) (2.20)\n",
      "Requirement already satisfied: async-generator in c:\\users\\kang\\anaconda3\\lib\\site-packages (from nbclient<0.6.0,>=0.5.0->nbconvert->notebook>=4.4.1->widgetsnbextension~=3.5.0->ipywidgets) (1.10)\n",
      "Requirement already satisfied: webencodings in c:\\users\\kang\\anaconda3\\lib\\site-packages (from bleach->nbconvert->notebook>=4.4.1->widgetsnbextension~=3.5.0->ipywidgets) (0.5.1)\n"
     ]
    },
    {
     "name": "stderr",
     "output_type": "stream",
     "text": [
      "\n",
      "[notice] A new release of pip is available: 23.1.2 -> 23.3.1\n",
      "[notice] To update, run: python.exe -m pip install --upgrade pip\n"
     ]
    }
   ],
   "source": [
    "! pip install numpy\n",
    "! pip install matplotlib\n",
    "! pip install wfdb\n",
    "! pip install scipy\n",
    "! pip install ipywidgets"
   ]
  },
  {
   "cell_type": "markdown",
   "metadata": {},
   "source": [
    "# ECG Read & Zeropadding"
   ]
  },
  {
   "cell_type": "code",
   "execution_count": 2,
   "metadata": {},
   "outputs": [],
   "source": [
    "import wfdb\n",
    "import matplotlib as plt\n",
    "import pandas as pd\n",
    "import numpy as np\n",
    "import matplotlib.pyplot as plt\n",
    "from scipy import signal\n",
    "import os"
   ]
  },
  {
   "cell_type": "code",
   "execution_count": 3,
   "metadata": {},
   "outputs": [
    {
     "name": "stdout",
     "output_type": "stream",
     "text": [
      "d:\\Code Works\\Work\\vs code\\ecg project\\Spectrogram\\training2017\n"
     ]
    }
   ],
   "source": [
    "# 현재 경로 불러오기 = os.getcwd()\n",
    "path = os.getcwd()\n",
    "os.chdir(path+ \"\\\\training2017\")\n",
    "print(os.getcwd())"
   ]
  },
  {
   "cell_type": "code",
   "execution_count": 4,
   "metadata": {},
   "outputs": [],
   "source": [
    "csv='REFERENCE.csv'\n",
    "data = pd.read_csv(csv, header=None, names=['ID', 'Label'])"
   ]
  },
  {
   "cell_type": "code",
   "execution_count": 5,
   "metadata": {},
   "outputs": [],
   "source": [
    "A =[] # Atrial Fibrillation\n",
    "N= [] # Normal Sinus rhythm\n",
    "O = [] # Other rhythm\n",
    "I = [] # Noisy\n",
    "\n",
    "for id, lb in zip (data['ID'], data['Label'] ): #v2 data\n",
    "         \n",
    "         if lb =='A':\n",
    "            A.append(id)\n",
    "            \n",
    "         elif lb =='N':\n",
    "            N.append(id)\n",
    "         \n",
    "         elif lb =='O':\n",
    "            O.append(id)\n",
    "        \n",
    "         elif lb =='~':\n",
    "            I.append(id)   "
   ]
  },
  {
   "cell_type": "code",
   "execution_count": 6,
   "metadata": {},
   "outputs": [],
   "source": [
    "dic = {'Atrial Fibrillation': A, 'Normal Sinus Rhythm': N, 'Other Rhythm': O, 'Noisy': I}"
   ]
  },
  {
   "cell_type": "markdown",
   "metadata": {},
   "source": [
    "## ECG read function"
   ]
  },
  {
   "cell_type": "code",
   "execution_count": 7,
   "metadata": {},
   "outputs": [],
   "source": [
    "def ecg_read(patient_id):\n",
    "    record = wfdb.rdrecord(patient_id) \n",
    "    ecg_signal = record.p_signal[:,0]  \n",
    "    fs = record.fs\n",
    "    return ecg_signal, fs"
   ]
  },
  {
   "cell_type": "markdown",
   "metadata": {},
   "source": [
    "## 최대시간"
   ]
  },
  {
   "cell_type": "code",
   "execution_count": 8,
   "metadata": {},
   "outputs": [],
   "source": [
    "record = wfdb.rdrecord('A05736')\n",
    "ecg_signal = record.p_signal[:,0]  # time sequencial == ts\n",
    "fs = record.fs\n",
    "        \n",
    "maxtime = np.arange(0,len(ecg_signal) )/fs\n",
    "maxtime_length = len(maxtime) # 18286"
   ]
  },
  {
   "cell_type": "code",
   "execution_count": 9,
   "metadata": {},
   "outputs": [],
   "source": [
    "ecg_signal, fs = ecg_read('A00001')"
   ]
  },
  {
   "cell_type": "markdown",
   "metadata": {},
   "source": [
    "## RR Interval 계산 및 HeartRate 계산"
   ]
  },
  {
   "cell_type": "code",
   "execution_count": 10,
   "metadata": {},
   "outputs": [
    {
     "name": "stdout",
     "output_type": "stream",
     "text": [
      "Estimated Heart Rate: 78.7746170678337 BPM\n"
     ]
    }
   ],
   "source": [
    "import wfdb\n",
    "import numpy as np\n",
    "from scipy.signal import find_peaks\n",
    "\n",
    "def calculate_hr_from_ecg(ecg_signal, fs):\n",
    "    # R파 검출\n",
    "    peaks, _ = find_peaks(ecg_signal, distance=fs*0.6)  # R파는 일반적으로 초당 최대 1회 발생\n",
    "\n",
    "    # RR 간격 계산 (단위: 초)\n",
    "    rr_intervals = np.diff(peaks) / fs\n",
    "\n",
    "    # 평균 심박수 계산\n",
    "    avg_hr = 60 / np.mean(rr_intervals)\n",
    "\n",
    "    return avg_hr\n",
    "\n",
    "hr = calculate_hr_from_ecg(ecg_signal, fs)\n",
    "print(\"Estimated Heart Rate:\", hr, \"BPM\")"
   ]
  },
  {
   "cell_type": "markdown",
   "metadata": {},
   "source": [
    "## Zero padding"
   ]
  },
  {
   "cell_type": "code",
   "execution_count": 11,
   "metadata": {},
   "outputs": [],
   "source": [
    "# zero pading function\n",
    "def extend_ts(ecg_signal, length):\n",
    "    extended = np.zeros(length)\n",
    "    siglength = np.min([length, ecg_signal.shape[0]])\n",
    "    extended[:siglength] = ecg_signal[:siglength]\n",
    "    return extended "
   ]
  },
  {
   "cell_type": "markdown",
   "metadata": {},
   "source": [
    "# Pt Algorithm filtering"
   ]
  },
  {
   "cell_type": "code",
   "execution_count": 12,
   "metadata": {},
   "outputs": [],
   "source": [
    "from scipy.signal import butter, filtfilt\n",
    "class Pan_tompkins:\n",
    "    \"\"\" Implementationof Pan Tompkins Algorithm.\n",
    "\n",
    "    Noise cancellation (bandpass filter) -> Derivative step -> Squaring and integration.\n",
    "\n",
    "    Params:\n",
    "        data (array) : ECG data\n",
    "        sampling rate (int)\n",
    "    returns:\n",
    "        Integrated signal (array) : This signal can be used to detect peaks\n",
    "\n",
    "\n",
    "    ----------------------------------------\n",
    "    HOW TO USE ?\n",
    "    Eg.\n",
    "\n",
    "    ECG_data = [4, 7, 80, 78, 9], sampling  =2000\n",
    "    \n",
    "    call : \n",
    "       signal = Pan_tompkins(ECG_data, sampling).fit()\n",
    "\n",
    "    ----------------------------------------\n",
    "    \n",
    "    \"\"\"\n",
    "    def __init__(self, data, sample_rate):\n",
    "\n",
    "        self.data = data\n",
    "        self.sample_rate = sample_rate\n",
    "\n",
    "\n",
    "    def fit(self, normalized_cut_offs=None, butter_filter_order=2, padlen=150, window_size=None):\n",
    "        ''' Fit the signal according to algorithm and returns integrated signal\n",
    "        \n",
    "        '''\n",
    "        # 1.Noise cancellationusing bandpass filter\n",
    "        self.filtered_BandPass = self.band_pass_filter(normalized_cut_offs, butter_filter_order, padlen)\n",
    "        \n",
    "        # 2.derivate filter to get slpor of the QRS\n",
    "        self.derviate_pass = self.derivative_filter()\n",
    "\n",
    "        # 3.Squaring to enhance dominant peaks in QRS\n",
    "        self.square_pass = self.squaring()\n",
    "\n",
    "        # 4.To get info about QRS complex\n",
    "        self.integrated_signal = self.moving_window_integration( window_size)\n",
    "\n",
    "        return self.integrated_signal\n",
    "\n",
    "\n",
    "    def band_pass_filter(self, normalized_cut_offs=None, butter_filter_order=2, padlen=150):\n",
    "        ''' Band pass filter for Pan tompkins algorithm\n",
    "            with a bandpass setting of 5 to 20 Hz\n",
    "\n",
    "            params:\n",
    "                normalized_cut_offs (list) : bandpass setting canbe changed here\n",
    "                bandpass filte rorder (int) : deffault 2\n",
    "                padlen (int) : padding length for data , default = 150\n",
    "                        scipy default value = 2 * max(len(a coeff, b coeff))\n",
    "\n",
    "            return:\n",
    "                filtered_BandPass (array)\n",
    "        '''\n",
    "\n",
    "        # Calculate nyquist sample rate and cutoffs\n",
    "        nyquist_sample_rate = self.sample_rate / 2\n",
    "\n",
    "        # calculate cutoffs\n",
    "        if normalized_cut_offs is None:\n",
    "            normalized_cut_offs = [5/nyquist_sample_rate, 15/nyquist_sample_rate]\n",
    "        else:\n",
    "            assert type(self.sample_rate ) is list, \"Cutoffs should be a list with [low, high] values\"\n",
    "\n",
    "        # butter coefficinets \n",
    "        b_coeff, a_coeff = butter(butter_filter_order, normalized_cut_offs, btype='bandpass')[:2]\n",
    "\n",
    "        # apply forward and backward filter\n",
    "        filtered_BandPass = filtfilt(b_coeff, a_coeff, self.data, padlen=padlen)\n",
    "        \n",
    "        return filtered_BandPass\n",
    "\n",
    "\n",
    "    def derivative_filter(self):\n",
    "        ''' Derivative filter\n",
    "\n",
    "        params:\n",
    "            filtered_BandPass (array) : outputof bandpass filter\n",
    "        return:\n",
    "            derivative_pass (array)\n",
    "        '''\n",
    "\n",
    "        # apply differentiation\n",
    "        derviate_pass= np.diff(self.band_pass_filter())\n",
    "\n",
    "        return derviate_pass\n",
    "\n",
    "\n",
    "    def squaring(self):\n",
    "        ''' squaring application on derivate filter output data\n",
    "\n",
    "        params:\n",
    "\n",
    "        return:\n",
    "            square_pass (array)\n",
    "        '''\n",
    "\n",
    "        # apply squaring\n",
    "        square_pass= self.derivative_filter() **2\n",
    "\n",
    "        return square_pass \n",
    "\n",
    "\n",
    "    def moving_window_integration(self, window_size=None):\n",
    "        ''' Moving avergae filter \n",
    "\n",
    "        Params:\n",
    "            window_size (int) : no. of samples to average, if not provided : 0.08 * sample rate\n",
    "            sample_rate (int) : should be given if window_size is not given  \n",
    "        return:\n",
    "            integrated_signal (array)\n",
    "        '''\n",
    "\n",
    "        if window_size is None:\n",
    "            assert self.sample_rate is not None, \"if window size is None, sampling rate should be given\"\n",
    "            window_size = int(0.08 * int(self.sample_rate))  # given in paper 150ms as a window size\n",
    "        \n",
    "\n",
    "        # define integrated signal\n",
    "        integrated_signal = np.zeros_like(self.squaring())\n",
    "\n",
    "        # cumulative sum of signal\n",
    "        cumulative_sum = self.squaring().cumsum()\n",
    "\n",
    "        # estimationof area/ integral below the curve deifnes the data\n",
    "        integrated_signal[window_size:] = (cumulative_sum[window_size:] - cumulative_sum[:-window_size]) / window_size\n",
    "\n",
    "        integrated_signal[:window_size] = cumulative_sum[:window_size] / np.arange(1, window_size + 1)\n",
    "\n",
    "        return integrated_signal"
   ]
  },
  {
   "cell_type": "code",
   "execution_count": 13,
   "metadata": {},
   "outputs": [],
   "source": [
    "pan_tompkins = Pan_tompkins(ecg_signal, fs)\n",
    "signal = pan_tompkins.fit()"
   ]
  },
  {
   "cell_type": "markdown",
   "metadata": {},
   "source": [
    "## Augmentation : Randomsampling\n",
    "\n",
    "코드 : https://github.com/awerdich/physionet\n",
    "논문 : https://arxiv.org/pdf/1710.06122.pdf\n",
    "\n",
    "- 사용 목적 :다양한 심박수를 가진 데이터를 생성함으로써, 모델이 더 넓은 범위의 심박수 변화에 대해 학습할 수 있도록 한다. 모든 훈련 데이터에 대해 80bpm의 심박수를 가정하고, 이를 기반으로 다시 샘플링을 수행함으로써, 실제보다 높거나 낮은 심박수를 가진 신호를 생성. 따라서 다양한 심박수 패턴을 인식하는 능력강화에 도움\n",
    "- 원리: ECG 신호를 재샘플링하여 심박수가 [60, 120]bpm 구간에 균등하게 분포하도록 하는 방법"
   ]
  },
  {
   "cell_type": "code",
   "execution_count": 14,
   "metadata": {},
   "outputs": [],
   "source": [
    "import numpy as np\n",
    "import scipy as sc\n",
    "from scipy import signal\n",
    "\n",
    "# Helper functions needed for data augmentation\n",
    "def stretch_squeeze(source, length):\n",
    "    target = np.zeros([1, length])\n",
    "    interpol_obj = sc.interpolate.interp1d(np.arange(source.size), source)\n",
    "    grid = np.linspace(0, source.size - 1, target.size)\n",
    "    result = interpol_obj(grid)\n",
    "    return result\n",
    "\n",
    "def fit_tolength(source, length):\n",
    "    target = np.zeros([length])\n",
    "    w_l = min(source.size, target.size)\n",
    "    target[0:w_l] = source[0:w_l]\n",
    "    return target\n",
    "\n",
    "def extend_ts(ts, length):\n",
    "    extended = np.zeros(length)\n",
    "    siglength = np.min([length, ts.shape[0]])\n",
    "    extended[:siglength] = ts[:siglength]\n",
    "    return extended \n",
    "\n",
    "\n",
    "# Data augmentation scheme: Random resampling\n",
    "def random_resample(signals, upscale_factor = 1):\n",
    "    [n_signals,length] = signals.shape\n",
    "    # pulse variation from 60 bpm to 120 bpm, expected 80 bpm\n",
    "    new_length = np.random.randint(\n",
    "        low=int(length*80/120),\n",
    "        high=int(length*80/60),\n",
    "        size=[n_signals, upscale_factor])\n",
    "    signals = [np.array(s) for s in signals.tolist()]\n",
    "    new_length = [np.array(nl) for nl in new_length.tolist()]\n",
    "    sigs = [stretch_squeeze(s,l) for s,nl in zip(signals,new_length) for l in nl]\n",
    "    sigs = [fit_tolength(s, length) for s in sigs]\n",
    "    sigs = np.array(sigs)\n",
    "    return sigs\n",
    "\n"
   ]
  },
  {
   "cell_type": "code",
   "execution_count": 15,
   "metadata": {},
   "outputs": [
    {
     "data": {
      "image/png": "[encoded data removed]",
      "text/plain": [
       "<Figure size 1500x600 with 1 Axes>"
      ]
     },
     "metadata": {},
     "output_type": "display_data"
    },
    {
     "name": "stdout",
     "output_type": "stream",
     "text": [
      "78.7746170678337\n",
      "67.36526946107784\n"
     ]
    }
   ],
   "source": [
    "data_resampled = [] # list for resampled data\n",
    "ecg_signal, fs = ecg_read('A00001')\n",
    "data_resampled.append(random_resample(np.expand_dims(ecg_signal, axis = 0))[0])\n",
    "time = np.arange(0,len(ecg_signal) )/fs\n",
    "plt.figure(figsize=(15, 6))\n",
    "plt.plot(time, data_resampled[0], 'g')\n",
    "plt.plot(time, ecg_signal, 'r')\n",
    "plt.xlabel('Time [s]')\n",
    "plt.ylabel('Amplitude [mV]')\n",
    "plt.title(f'ECG Random Sampling ')\n",
    "plt.show()\n",
    "\n",
    "hr = calculate_hr_from_ecg(ecg_signal, fs)\n",
    "hr1 = calculate_hr_from_ecg(data_resampled[0], fs)\n",
    "print(hr)\n",
    "print(hr1)"
   ]
  },
  {
   "cell_type": "markdown",
   "metadata": {},
   "source": [
    "# Plot ECG UI"
   ]
  },
  {
   "cell_type": "markdown",
   "metadata": {},
   "source": [
    "#### ecg plot function ui"
   ]
  },
  {
   "cell_type": "code",
   "execution_count": 16,
   "metadata": {},
   "outputs": [],
   "source": [
    "%matplotlib inline\n",
    "import ipywidgets as widgets\n",
    "import matplotlib.pyplot as plt\n",
    "import numpy as np\n",
    " \n",
    "  \n",
    "def plot_ecg_ui(patient_id, ecg_signal, fs):\n",
    "    def update_plot(start, end):\n",
    "        start_idx = int(start * fs)\n",
    "        end_idx = int(end * fs)\n",
    "        \n",
    "        selected_ecg_signal = ecg_signal[start_idx:end_idx]\n",
    "        avg_hr = calculate_hr_from_ecg(selected_ecg_signal, fs)\n",
    "        \n",
    "        plt.figure(figsize=(15, 6))\n",
    "        plt.plot(np.arange(start_idx, end_idx) / fs, selected_ecg_signal, 'g')\n",
    "        plt.xlabel('Time [s]')\n",
    "        plt.ylabel('Amplitude [mV]')\n",
    "        plt.title(f'ECG Time Series - {patient_id} (from {start}s to {end}s) - Avg HR: {avg_hr:.2f} BPM')\n",
    "        plt.show()\n",
    "\n",
    "    # 슬라이더 정의\n",
    "    start_slider = widgets.FloatSlider(min=0, max=len(ecg_signal)/fs, value=0, description='Start Time:')\n",
    "    end_slider = widgets.FloatSlider(min=0, max=len(ecg_signal)/fs, value=5, description='End Time:')\n",
    "\n",
    "    # 슬라이더 상호작용 위젯\n",
    "    ui = widgets.HBox([start_slider, end_slider])\n",
    "    out = widgets.interactive_output(update_plot, {'start': start_slider, 'end': end_slider})\n",
    "\n",
    "    display(ui, out)\n",
    "    \n",
    "    \n"
   ]
  },
  {
   "cell_type": "markdown",
   "metadata": {},
   "source": [
    "### random_sampling function ui"
   ]
  },
  {
   "cell_type": "code",
   "execution_count": 17,
   "metadata": {},
   "outputs": [],
   "source": [
    "%matplotlib inline\n",
    "import ipywidgets as widgets\n",
    "import matplotlib.pyplot as plt\n",
    "import numpy as np\n",
    "\n",
    "global_processed_ecg_signal = None\n",
    "def plot_random_ui(patient_id, ecg_signal, fs):\n",
    "    \n",
    "    global global_processed_ecg_signal\n",
    "    ecg_signal=random_resample(np.expand_dims(ecg_signal, axis = 0))[0]\n",
    "    global_processed_ecg_signal = ecg_signal\n",
    "    def update_plot(start, end):\n",
    "        start_idx = int(start * fs)\n",
    "        end_idx = int(end * fs)\n",
    "        \n",
    "        selected_ecg_signal = ecg_signal[start_idx:end_idx]\n",
    "        avg_hr = calculate_hr_from_ecg(selected_ecg_signal, fs)\n",
    "        \n",
    "        plt.figure(figsize=(15, 6))\n",
    "        plt.plot(np.arange(start_idx, end_idx) / fs, selected_ecg_signal, 'r')\n",
    "        plt.xlabel('Time [s]')\n",
    "        plt.ylabel('Amplitude [mV]')\n",
    "        plt.title(f'ECG Randomsampled - {patient_id} (from {start}s to {end}s) - Avg HR: {avg_hr:.2f} BPM')\n",
    "        plt.show()\n",
    "\n",
    "    # 슬라이더 정의\n",
    "    start_slider = widgets.FloatSlider(min=0, max=len(ecg_signal)/fs, value=0, description='Start Time:')\n",
    "    end_slider = widgets.FloatSlider(min=0, max=len(ecg_signal)/fs, value=5, description='End Time:')\n",
    "\n",
    "    # 슬라이더 상호작용 위젯\n",
    "    ui = widgets.HBox([start_slider, end_slider])\n",
    "    out = widgets.interactive_output(update_plot, {'start': start_slider, 'end': end_slider})\n",
    "\n",
    "    display(ui, out)\n"
   ]
  },
  {
   "cell_type": "markdown",
   "metadata": {},
   "source": [
    "## Irisgram (STFT.Ver)"
   ]
  },
  {
   "cell_type": "code",
   "execution_count": 18,
   "metadata": {},
   "outputs": [],
   "source": [
    "from scipy.signal import get_window\n",
    "\n",
    "def plot_Iris(patient_id, ecg_signal, fs, is_random_resampled=False):\n",
    "    # 윈도우 길이 정의 (예: 1초 길이)\n",
    "    window_length_sec = 0.1  # 1초\n",
    "    window_length_samples = int(fs * window_length_sec)\n",
    "\n",
    "    # 윈도우 함수 생성 (예: 해밍 윈도우)\n",
    "    window_type = 'hamming'\n",
    "    win = get_window(window_type, window_length_samples)\n",
    "\n",
    "\n",
    "\n",
    "    # STFT 계산\n",
    "    # window_length = int(0.1 * fs)\n",
    "    f, t, Zxx = signal.stft(ecg_signal, fs=fs, window=win, nperseg=len(win))\n",
    "\n",
    "    # 복소수 데이터의 크기 계산\n",
    "    PSD1 = np.abs(Zxx)\n",
    "\n",
    "    # Equivalent to Equivalent Noise Bandwidt in MATLAB\n",
    "    enbw = np.sum(np.square(win)) / len(win)\n",
    "\n",
    "    # 진폭 스펙트럼으로 변환 (dB)\n",
    "    S = 20 * np.log10(np.sqrt(PSD1 * enbw) * np.sqrt(2))\n",
    "\n",
    "    # 극좌표 변환\n",
    "    theta = -np.linspace(-np.pi, np.pi, len(t))\n",
    "    rho = np.max(f)/3 + f\n",
    "    T, R = np.meshgrid(theta, rho)\n",
    "    X, Y = R * np.cos(T), R * np.sin(T)\n",
    "\n",
    "    # 동적 범위 제한\n",
    "    Smax = np.max(S)\n",
    "    Smin = np.max([np.min(S), Smax - 120])  # 최대 120 dB 동적 범위\n",
    "\n",
    "    # 이름 설정    \n",
    "    if is_random_resampled:\n",
    "            title = f'ECG Irisgram(STFT.Ver) - {patient_id} (Random Resampled)'\n",
    "    else:\n",
    "            title = f'ECG Irisgram(STFT.Ver) - {patient_id}'\n",
    "\n",
    "\n",
    "    # STFT Irisgram\n",
    "    plt.figure()\n",
    "    plt.pcolormesh(X, Y, S, shading='gouraud', cmap='jet')\n",
    "    plt.colorbar(label='Magnitude, dB')\n",
    "    plt.axis('image')\n",
    "    plt.axis('off')\n",
    "    plt.title(title)\n",
    "    plt.show()\n"
   ]
  },
  {
   "cell_type": "code",
   "execution_count": null,
   "metadata": {},
   "outputs": [
    {
     "data": {
      "application/vnd.jupyter.widget-view+json": {
       "model_id": "303e6ab406ca46d887531f084d30208a",
       "version_major": 2,
       "version_minor": 0
      },
      "text/plain": [
       "HBox(children=(Dropdown(description='ECG Label:', index=3, options=('Atrial Fibrillation', 'Normal Sinus Rhyth…"
      ]
     },
     "metadata": {},
     "output_type": "display_data"
    },
    {
     "data": {
      "application/vnd.jupyter.widget-view+json": {
       "model_id": "8683ac9accc54365aebc5eb62e9470b0",
       "version_major": 2,
       "version_minor": 0
      },
      "text/plain": [
       "HBox(children=(Dropdown(description='Zero-padding:', options=('N', 'Y'), value='N'), Dropdown(description='Pan…"
      ]
     },
     "metadata": {},
     "output_type": "display_data"
    },
    {
     "data": {
      "application/vnd.jupyter.widget-view+json": {
       "model_id": "50df0c0a389346a4b64a0a30a0b9579f",
       "version_major": 2,
       "version_minor": 0
      },
      "text/plain": [
       "Label(value='HR difference for Max time: -1.54 BPM')"
      ]
     },
     "metadata": {},
     "output_type": "display_data"
    },
    {
     "data": {
      "application/vnd.jupyter.widget-view+json": {
       "model_id": "b6035a11832947c7849dcf798337430d",
       "version_major": 2,
       "version_minor": 0
      },
      "text/plain": [
       "HBox(children=(FloatSlider(value=0.0, description='Start Time:', max=16.926666666666666), FloatSlider(value=5.…"
      ]
     },
     "metadata": {},
     "output_type": "display_data"
    },
    {
     "data": {
      "application/vnd.jupyter.widget-view+json": {
       "model_id": "b631b8eab8fd4dc4b9d1701a35bcefca",
       "version_major": 2,
       "version_minor": 0
      },
      "text/plain": [
       "Output()"
      ]
     },
     "metadata": {},
     "output_type": "display_data"
    }
   ],
   "source": [
    "import ipywidgets as widgets\n",
    "from IPython.display import display, clear_output\n",
    "from scipy.signal import spectrogram, get_window, welch\n",
    "\n",
    "\n",
    "\n",
    "dic = {'Atrial Fibrillation': A, 'Normal Sinus Rhythm': N, 'Other Rhythm': O, 'Noisy': I}\n",
    "# 레이블 선택을 위한 드롭다운 위젯\n",
    "label_dropdown = widgets.Dropdown(\n",
    "    options=list(dic.keys()),\n",
    "    description='ECG Label:',\n",
    ")\n",
    "\n",
    "# 환자 ID 선택을 위한 두 번째 드롭다운 (초기화는 빈 상태)\n",
    "patient_dropdown = widgets.Dropdown(\n",
    "    options=[],\n",
    "    description='ID:',\n",
    ")\n",
    "\n",
    "\n",
    "# Zeropadding 선택을 위한 세 번째 드롭다운\n",
    "padding_dropdown = widgets.Dropdown(\n",
    "    options=['N', 'Y'],\n",
    "    description='Zero-padding:',\n",
    ")\n",
    "\n",
    "\n",
    "# PT Algorithm의 디노이징을 선택하기 위한 네 번째 드롭다운\n",
    "Pan_tompkins_dropdown= widgets.Dropdown(\n",
    "    options=['N', 'Y'],\n",
    "    description='Pan_tompkins',\n",
    ")\n",
    "\n",
    "# Random-resampling에 대한 다섯 번째 드롭다운\n",
    "random_resample_dropdown= widgets.Dropdown(\n",
    "    options=['N', 'Y'],\n",
    "    description='Random-Resampling',\n",
    ")\n",
    "\n",
    "# Random-resampling에 대한 다섯 번째 드롭다운\n",
    "Irisgram_dropdown= widgets.Dropdown(\n",
    "    options=['N', 'Y'],\n",
    "    description='Iris',\n",
    ")\n",
    "\n",
    "# 레이블 선택에 따라 환자 ID 드롭다운 옵션을 업데이트하는 함수\n",
    "def update_patient_dropdown(*args):\n",
    "    label = label_dropdown.value\n",
    "    patient_dropdown.options = dic[label]\n",
    "    \n",
    "\n",
    "\n",
    "label_dropdown.observe(update_patient_dropdown, 'value')\n",
    "\n",
    "# HR 차이를 표시하기 위한 레이블\n",
    "hr_difference_label = widgets.Label()\n",
    "\n",
    "# 환자 ID가 선택되었을 때 ECG를 플롯하는 함수\n",
    "def on_patient_dropdown_change(change):\n",
    "    if change['type'] == 'change' and change['name'] == 'value':\n",
    "        clear_output(wait=True)\n",
    "        display(widgets.HBox([label_dropdown, patient_dropdown]))\n",
    "        display(widgets.HBox([padding_dropdown, Pan_tompkins_dropdown,random_resample_dropdown, Irisgram_dropdown]))\n",
    "        display(hr_difference_label)\n",
    "        patient_id = change['new']\n",
    "        \n",
    "        # ecg read\n",
    "        ecg_signal, fs = ecg_read(patient_id)\n",
    "        \n",
    "        plot_ecg_ui(patient_id, ecg_signal, fs)\n",
    "        \n",
    "\n",
    "def on_ecgprocess_dropdown_change(change):\n",
    "            if change['type'] == 'change' and change['name'] == 'value':\n",
    "                clear_output(wait=True)\n",
    "                display(widgets.HBox([label_dropdown, patient_dropdown]))\n",
    "                display(widgets.HBox([padding_dropdown, Pan_tompkins_dropdown, random_resample_dropdown, Irisgram_dropdown]))\n",
    "                display(hr_difference_label)\n",
    "                patient_id = patient_dropdown.value\n",
    "                \n",
    "                # ecg read\n",
    "                ecg_signal, fs = ecg_read(patient_id)\n",
    "\n",
    "                # Zero Padding 적용 여부 확인\n",
    "                if padding_dropdown.value == 'Y':\n",
    "                    # maxtime_length를 적절히 정의해야 합니다.\n",
    "                    ecg_signal = extend_ts(ecg_signal, maxtime_length)\n",
    "\n",
    "                # Pan-Tompkins 디노이징 적용 여부 확인\n",
    "                if Pan_tompkins_dropdown.value == 'Y':\n",
    "                    pan_tompkins = Pan_tompkins(ecg_signal, fs)\n",
    "                    ecg_signal = pan_tompkins.fit()\n",
    "            \n",
    "                # ECG 신호 플롯\n",
    "                plot_ecg_ui(patient_id, ecg_signal, fs)\n",
    "             \n",
    "                # Random sampling 결과 출력 여부 확인\n",
    "                if random_resample_dropdown.value == 'Y':\n",
    "                    hr= calculate_hr_from_ecg(ecg_signal, fs)\n",
    "                    plot_random_ui(patient_id, ecg_signal, fs)\n",
    "                    hr1 = calculate_hr_from_ecg(global_processed_ecg_signal, fs)\n",
    "                    hr_difference_label.value = f\"HR difference for Max time: {hr1 - hr:.2f} BPM\"\n",
    "                    \n",
    "                    # Random sampling의 Irisgram 출력 여부 확인\n",
    "                    if Irisgram_dropdown.value == 'Y':\n",
    "                        plot_Iris(patient_id, ecg_signal, fs, is_random_resampled= True)  \n",
    "                \n",
    "                # Random sampling 결과 출력 여부 확인\n",
    "                if Irisgram_dropdown.value == 'Y':\n",
    "                    plot_Iris(patient_id, ecg_signal, fs, is_random_resampled= False)      \n",
    "        \n",
    "    \n",
    "patient_dropdown.observe(on_patient_dropdown_change, 'value')\n",
    "padding_dropdown.observe(on_ecgprocess_dropdown_change, 'value')\n",
    "Pan_tompkins_dropdown.observe(on_ecgprocess_dropdown_change, 'value')\n",
    "random_resample_dropdown.observe(on_ecgprocess_dropdown_change, 'value')\n",
    "Irisgram_dropdown.observe(on_ecgprocess_dropdown_change, 'value')\n",
    "\n",
    "# 위젯 표시\n",
    "display(widgets.HBox([label_dropdown, patient_dropdown]))\n",
    "\n",
    "\n",
    "\n",
    "\n"
   ]
  }
 ],
 "metadata": {
  "kernelspec": {
   "display_name": "Python 3",
   "language": "python",
   "name": "python3"
  },
  "language_info": {
   "codemirror_mode": {
    "name": "ipython",
    "version": 3
   },
   "file_extension": ".py",
   "mimetype": "text/x-python",
   "name": "python",
   "nbconvert_exporter": "python",
   "pygments_lexer": "ipython3",
   "version": "3.9.7"
  }
 },
 "nbformat": 4,
 "nbformat_minor": 2
}
